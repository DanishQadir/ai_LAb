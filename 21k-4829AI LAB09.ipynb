{
 "cells": [
  {
   "cell_type": "markdown",
   "id": "b874abf0",
   "metadata": {},
   "source": [
    "     lab 9 21k4829\n",
    "01"
   ]
  },
  {
   "cell_type": "code",
   "execution_count": null,
   "id": "4ce3686f",
   "metadata": {},
   "outputs": [],
   "source": [
    "import numpy as np\n",
    "import gym\n",
    "env = gym.make(\"Taxi-v2\")\n",
    "Q = np.zeros([env.observation_space.n, env.action_space.n])\n",
    "alpha = 0.1  \n",
    "gamma = 0.6  \n",
    "epsilon = 0.1  \n",
    "num_episodes = 1000\n",
    "for episode in range(num_episodes):\n",
    "    state = env.reset()\n",
    "    done = False\n",
    "    while not done:\n",
    "        if np.random.uniform(0, 1) < epsilon:\n",
    "            action = env.action_space.sample()  \n",
    "        else:\n",
    "            action = np.argmax(Q[state])  \n",
    "        next_state, reward, done, info = env.step(action)\n",
    "        Q[state, action] = Q[state, action] + alpha * (reward + gamma * np.max(Q[next_state]) - Q[state, action])\n",
    "        state = next_state\n",
    "print(Q)"
   ]
  },
  {
   "cell_type": "markdown",
   "id": "17b3d242",
   "metadata": {},
   "source": [
    "# 02"
   ]
  },
  {
   "cell_type": "code",
   "execution_count": null,
   "id": "ed433cd6",
   "metadata": {},
   "outputs": [],
   "source": [
    "import gym\n",
    "env = gym.make(\"Taxi-v2\")\n",
    "Q = np.zeros([env.observation_space.n, env.action_space.n])\n",
    "alpha = 0.1 \n",
    "gamma = 0.6 \n",
    "epsilon = 0.1  \n",
    "num_episodes = 1000\n",
    "for episode in range(num_episodes):\n",
    "    state = env.reset()\n",
    "    done = False\n",
    "    while not done:\n",
    "        if np.random.uniform(0, 1) < epsilon:\n",
    "            action = env.action_space.sample()  \n",
    "        else:\n",
    "            action = np.argmax(Q[state])  \n",
    "        next_state, reward, done, info = env.step(action)\n",
    "        Q[state, action] = Q[state, action] + alpha * (reward + gamma * np.max(Q[next_state]) - Q[state, action])\n",
    "        state = next_state\n",
    "        \n",
    "print(Q)"
   ]
  },
  {
   "cell_type": "markdown",
   "id": "ec3e8d6e",
   "metadata": {},
   "source": [
    "# 03"
   ]
  },
  {
   "cell_type": "code",
   "execution_count": null,
   "id": "0c2cb19a",
   "metadata": {},
   "outputs": [],
   "source": [
    "\n",
    "import numpy as np\n",
    "num_nodes = 50  \n",
    "num_actions = 4  \n",
    "num_episodes = 1000  \n",
    "max_steps = 100  \n",
    "gamma = 0.9  \n",
    "alpha = 0.1  \n",
    "epsilon = 0.1  \n",
    "state_space = np.arange(num_nodes)\n",
    "action_space = np.arange(num_actions)\n",
    "Q = np.zeros((len(state_space), len(action_space)))\n",
    "def calculate_reward(current_state, next_state):\n",
    "    distance = np.abs(next_state - current_state)\n",
    "    cost_factor = 1 / distance if distance > 0 else 0 \n",
    "    reward = -cost_factor\n",
    "    return reward\n",
    "for episode in range(num_episodes):\n",
    "    state = np.random.choice(state_space)\n",
    "    for step in range(max_steps):\n",
    "        if np.random.uniform(0, 1) < epsilon:\n",
    "            action = np.random.choice(action_space)  \n",
    "        else:\n",
    "            action = np.argmax(Q[state]) \n",
    "        if action == 0: \n",
    "            next_state = max(state - 1, 0)\n",
    "        elif action == 1:\n",
    "            next_state = min(state + 1, len(state_space) - 1)\n",
    "        elif action == 2:\n",
    "            next_state = max(state - 1, 0)\n",
    "        else: \n",
    "            next_state = min(state + 1, len(state_space) - 1)\n",
    "        reward = calculate_reward(state, next_state)\n",
    "\n",
    "        Q[state, action] = Q[state, action] + alpha * (reward + gamma * np.max(Q[next_state]) - Q[state, action])\n",
    "\n",
    "        state = next_state\n",
    "\n"
   ]
  },
  {
   "cell_type": "code",
   "execution_count": null,
   "id": "11b06e5c",
   "metadata": {},
   "outputs": [],
   "source": []
  },
  {
   "cell_type": "code",
   "execution_count": null,
   "id": "bc0dd616",
   "metadata": {},
   "outputs": [],
   "source": []
  }
 ],
 "metadata": {
  "kernelspec": {
   "display_name": "Python 3 (ipykernel)",
   "language": "python",
   "name": "python3"
  },
  "language_info": {
   "codemirror_mode": {
    "name": "ipython",
    "version": 3
   },
   "file_extension": ".py",
   "mimetype": "text/x-python",
   "name": "python",
   "nbconvert_exporter": "python",
   "pygments_lexer": "ipython3",
   "version": "3.9.7"
  }
 },
 "nbformat": 4,
 "nbformat_minor": 5
}
