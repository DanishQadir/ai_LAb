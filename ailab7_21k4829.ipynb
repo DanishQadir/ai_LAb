{
  "nbformat": 4,
  "nbformat_minor": 0,
  "metadata": {
    "colab": {
      "provenance": []
    },
    "kernelspec": {
      "name": "python3",
      "display_name": "Python 3"
    },
    "language_info": {
      "name": "python"
    }
  },
  "cells": [
    {
      "cell_type": "code",
      "execution_count": 1,
      "metadata": {
        "colab": {
          "base_uri": "https://localhost:8080/"
        },
        "id": "GuKlFksFSLIz",
        "outputId": "7d8bc001-37a4-4884-f5c2-b81e160fb08a"
      },
      "outputs": [
        {
          "output_type": "stream",
          "name": "stdout",
          "text": [
            "The probability of a Machine Malfunction Alarm is: 1.75\n"
          ]
        }
      ],
      "source": [
        "def calculate_machine_malfunction_alarm_probability(prob_A_B, prob_B, prob_A_C, prob_C, prob_not_A_B, prob_not_A_C):\n",
        "    return (prob_A_B * prob_B) + (prob_A_C * prob_C) + (prob_not_A_B * prob_B) + (prob_not_A_C * prob_C)\n",
        "\n",
        "prob_A_B = 0.95\n",
        "prob_B = 0.9\n",
        "prob_A_C = 0.85\n",
        "prob_C = 0.7\n",
        "prob_not_A_B = 0.1\n",
        "prob_not_A_C = 0.3\n",
        "\n",
        "prob_machine_malfunction_alarm = calculate_machine_malfunction_alarm_probability(prob_A_B, prob_B, prob_A_C, prob_C, prob_not_A_B, prob_not_A_C)\n",
        "\n",
        "print(\"The probability of a Machine Malfunction Alarm is:\", prob_machine_malfunction_alarm)\n"
      ]
    },
    {
      "cell_type": "markdown",
      "source": [
        "# ***task 2***\n"
      ],
      "metadata": {
        "id": "5uU5FxQJSun3"
      }
    },
    {
      "cell_type": "code",
      "source": [
        "def calculate_machine_malfunction_alarm_probability(prob_A_B, prob_B, prob_A_C, prob_C):\n",
        "    return prob_A_B * prob_B + prob_A_C * prob_C\n",
        "\n",
        "prob_A_B = 0.95  # Probability that Alex correctly notifies Sarah of a machine malfunction\n",
        "prob_B = 0.9     # Probability that Sarah receives a notification from Alex\n",
        "prob_A_C = 0.85  # Probability that Emily correctly notifies Sarah of a machine malfunction\n",
        "prob_C = 0.7     # Probability that Sarah receives a notification from Emily\n",
        "\n",
        "prob_machine_malfunction_alarm = calculate_machine_malfunction_alarm_probability(prob_A_B, prob_B, prob_A_C, prob_C)\n",
        "\n",
        "print(\"The probability of a Machine Malfunction Alarm is:\", prob_machine_malfunction_alarm)\n"
      ],
      "metadata": {
        "colab": {
          "base_uri": "https://localhost:8080/"
        },
        "id": "Np9-IceeS4Ie",
        "outputId": "966cc05a-1271-4205-c13e-6c0405a077c5"
      },
      "execution_count": 2,
      "outputs": [
        {
          "output_type": "stream",
          "name": "stdout",
          "text": [
            "The probability of a Machine Malfunction Alarm is: 1.45\n"
          ]
        }
      ]
    },
    {
      "cell_type": "markdown",
      "source": [
        "# ***task3***"
      ],
      "metadata": {
        "id": "UIdLEX17UkNs"
      }
    },
    {
      "cell_type": "code",
      "source": [
        "from pomegranate import *\n",
        "\n",
        "# Define the prior probabilities\n",
        "box1 = DiscreteDistribution({'GG': 1})\n",
        "box2 = DiscreteDistribution({'SS': 1})\n",
        "box3 = DiscreteDistribution({'GS': 0.5, 'SG': 0.5})\n",
        "prior = DiscreteDistribution({'B1': 1/3, 'B2': 1/3, 'B3': 1/3})\n",
        "\n",
        "# Define the conditional probabilities\n",
        "cpd = ConditionalProbabilityTable(\n",
        "    [['B1', 'GG', 'GG', 1],\n",
        "     ['B1', 'GG', 'GS', 0],\n",
        "     ['B1', 'GG', 'SG', 0],\n",
        "     ['B1', 'GG', 'SS', 0],\n",
        "     ['B2', 'SS', 'SS', 1],\n",
        "     ['B2', 'SS', 'GS', 0],\n",
        "     ['B2', 'SS', 'SG', 0],\n",
        "     ['B2', 'SS', 'GG', 0],\n",
        "     ['B3', 'GS', 'GG', 0.5],\n",
        "     ['B3', 'GS', 'SG', 0.5],\n",
        "     ['B3', 'SG', 'GG', 0.5],\n",
        "     ['B3', 'SG', 'SG', 0.5]],\n",
        "    [prior, box1, box2, box3])\n",
        "\n",
        "# Define the network and query for the posterior probabilities\n",
        "model = BayesianNetwork('Two Coins')\n",
        "model.add_states(prior, box1, box2, box3, cpd)\n",
        "model.add_transition(prior, cpd)\n",
        "model.add_transition(box1, cpd)\n",
        "model.add_transition(box2, cpd)\n",
        "model.add_transition(box3, cpd)\n",
        "model.bake()\n",
        "\n",
        "# Query for the posterior probabilities\n",
        "posterior1 = model.predict_proba({'B1': 1, 'GG': 1})[3].parameters[0]['GG']\n",
        "posterior2 = model.predict_proba({'B2': 1, 'GG': 1})[3].parameters[0]['GG']\n",
        "posterior3 = model.predict_proba({'B3': 1, 'GG': 1})[3].parameters[0]['GG']\n",
        "\n",
        "print(\"Probability of the other coin being gold given that a gold coin is picked:\")\n",
        "print(\"(a) Box 1: {:.2f}\".format(posterior1))\n",
        "print(\"(b) Box 2: {:.2f}\".format(posterior2))\n",
        "print(\"(c) Box 3: {:.2f}\")\n"
      ],
      "metadata": {
        "colab": {
          "base_uri": "https://localhost:8080/",
          "height": 383
        },
        "id": "ulOtxanbUs7N",
        "outputId": "f8404894-197b-4637-836b-0d4d48722d90"
      },
      "execution_count": 3,
      "outputs": [
        {
          "output_type": "error",
          "ename": "ModuleNotFoundError",
          "evalue": "No module named 'pomegranate'",
          "traceback": [
            "\u001b[0;31m---------------------------------------------------------------------------\u001b[0m",
            "\u001b[0;31mModuleNotFoundError\u001b[0m                       Traceback (most recent call last)",
            "\u001b[0;32m<ipython-input-3-20387e2b1448>\u001b[0m in \u001b[0;36m<cell line: 1>\u001b[0;34m()\u001b[0m\n\u001b[0;32m----> 1\u001b[0;31m \u001b[0;32mfrom\u001b[0m \u001b[0mpomegranate\u001b[0m \u001b[0;32mimport\u001b[0m \u001b[0;34m*\u001b[0m\u001b[0;34m\u001b[0m\u001b[0;34m\u001b[0m\u001b[0m\n\u001b[0m\u001b[1;32m      2\u001b[0m \u001b[0;34m\u001b[0m\u001b[0m\n\u001b[1;32m      3\u001b[0m \u001b[0;31m# Define the prior probabilities\u001b[0m\u001b[0;34m\u001b[0m\u001b[0;34m\u001b[0m\u001b[0m\n\u001b[1;32m      4\u001b[0m \u001b[0mbox1\u001b[0m \u001b[0;34m=\u001b[0m \u001b[0mDiscreteDistribution\u001b[0m\u001b[0;34m(\u001b[0m\u001b[0;34m{\u001b[0m\u001b[0;34m'GG'\u001b[0m\u001b[0;34m:\u001b[0m \u001b[0;36m1\u001b[0m\u001b[0;34m}\u001b[0m\u001b[0;34m)\u001b[0m\u001b[0;34m\u001b[0m\u001b[0;34m\u001b[0m\u001b[0m\n\u001b[1;32m      5\u001b[0m \u001b[0mbox2\u001b[0m \u001b[0;34m=\u001b[0m \u001b[0mDiscreteDistribution\u001b[0m\u001b[0;34m(\u001b[0m\u001b[0;34m{\u001b[0m\u001b[0;34m'SS'\u001b[0m\u001b[0;34m:\u001b[0m \u001b[0;36m1\u001b[0m\u001b[0;34m}\u001b[0m\u001b[0;34m)\u001b[0m\u001b[0;34m\u001b[0m\u001b[0;34m\u001b[0m\u001b[0m\n",
            "\u001b[0;31mModuleNotFoundError\u001b[0m: No module named 'pomegranate'",
            "",
            "\u001b[0;31m---------------------------------------------------------------------------\u001b[0;32m\nNOTE: If your import is failing due to a missing package, you can\nmanually install dependencies using either !pip or !apt.\n\nTo view examples of installing some common dependencies, click the\n\"Open Examples\" button below.\n\u001b[0;31m---------------------------------------------------------------------------\u001b[0m\n"
          ],
          "errorDetails": {
            "actions": [
              {
                "action": "open_url",
                "actionText": "Open Examples",
                "url": "/notebooks/snippets/importing_libraries.ipynb"
              }
            ]
          }
        }
      ]
    },
    {
      "cell_type": "markdown",
      "source": [
        "***task4***"
      ],
      "metadata": {
        "id": "A_aBRkOMUy6-"
      }
    },
    {
      "cell_type": "code",
      "source": [
        "from hmmlearn import hmm\n",
        "import numpy as np\n",
        "\n",
        "\n",
        "solar_panel_sales = np.array([0, 0, 1, 1, 0, 1, 1])\n",
        "wind_turbine_sales = np.array([1, 1, 0, 0, 1, 0, 0])\n",
        "\n",
        "X = np.vstack((solar_panel_sales, wind_turbine_sales)).T\n",
        "\n",
        "\n",
        "states = [\"Low Demand\", \"High Demand\"]\n",
        "\n",
        "transition_matrix = np.array([[0.8, 0.2],\n",
        "                               [0.3, 0.7]])\n",
        "\n",
        "model = hmm.MultinomialHMM(n_components=len(states), n_iter=100)\n",
        "\n",
        "model.transmat_ = transition_matrix\n",
        "\n",
        "model.fit(X)\n",
        "print(\"Learned Transition Probabilities:\")\n",
        "print(model.transmat_)\n"
      ],
      "metadata": {
        "colab": {
          "base_uri": "https://localhost:8080/",
          "height": 383
        },
        "id": "iHgOIkAwUyPK",
        "outputId": "fecdf501-ff9b-49ca-cc01-78ccd90c5889"
      },
      "execution_count": 4,
      "outputs": [
        {
          "output_type": "error",
          "ename": "ModuleNotFoundError",
          "evalue": "No module named 'hmmlearn'",
          "traceback": [
            "\u001b[0;31m---------------------------------------------------------------------------\u001b[0m",
            "\u001b[0;31mModuleNotFoundError\u001b[0m                       Traceback (most recent call last)",
            "\u001b[0;32m<ipython-input-4-c038359a2462>\u001b[0m in \u001b[0;36m<cell line: 1>\u001b[0;34m()\u001b[0m\n\u001b[0;32m----> 1\u001b[0;31m \u001b[0;32mfrom\u001b[0m \u001b[0mhmmlearn\u001b[0m \u001b[0;32mimport\u001b[0m \u001b[0mhmm\u001b[0m\u001b[0;34m\u001b[0m\u001b[0;34m\u001b[0m\u001b[0m\n\u001b[0m\u001b[1;32m      2\u001b[0m \u001b[0;32mimport\u001b[0m \u001b[0mnumpy\u001b[0m \u001b[0;32mas\u001b[0m \u001b[0mnp\u001b[0m\u001b[0;34m\u001b[0m\u001b[0;34m\u001b[0m\u001b[0m\n\u001b[1;32m      3\u001b[0m \u001b[0;34m\u001b[0m\u001b[0m\n\u001b[1;32m      4\u001b[0m \u001b[0;31m# Step 1: Data Preprocessing (Example)\u001b[0m\u001b[0;34m\u001b[0m\u001b[0;34m\u001b[0m\u001b[0m\n\u001b[1;32m      5\u001b[0m \u001b[0;31m# Assume you have collected sales data for solar panels and wind turbines for a week\u001b[0m\u001b[0;34m\u001b[0m\u001b[0;34m\u001b[0m\u001b[0m\n",
            "\u001b[0;31mModuleNotFoundError\u001b[0m: No module named 'hmmlearn'",
            "",
            "\u001b[0;31m---------------------------------------------------------------------------\u001b[0;32m\nNOTE: If your import is failing due to a missing package, you can\nmanually install dependencies using either !pip or !apt.\n\nTo view examples of installing some common dependencies, click the\n\"Open Examples\" button below.\n\u001b[0;31m---------------------------------------------------------------------------\u001b[0m\n"
          ],
          "errorDetails": {
            "actions": [
              {
                "action": "open_url",
                "actionText": "Open Examples",
                "url": "/notebooks/snippets/importing_libraries.ipynb"
              }
            ]
          }
        }
      ]
    },
    {
      "cell_type": "markdown",
      "source": [
        "# **task5**"
      ],
      "metadata": {
        "id": "5GvpetdYVxDd"
      }
    },
    {
      "cell_type": "code",
      "source": [
        "from hmmlearn import hmm\n",
        "import numpy as np\n",
        "\n",
        "solar_panel_sales = np.array([0, 0, 1, 1, 0, 1, 1])\n",
        "wind_turbine_sales = np.array([1, 1, 0, 0, 1, 0, 0])\n",
        "\n",
        "X = np.vstack((solar_panel_sales, wind_turbine_sales)).T\n",
        "\n",
        "states = [\"Low Demand\", \"High Demand\"]\n",
        "\n",
        "transition_matrix = np.array([[0.8, 0.2], [0.3, 0.7]])\n",
        "\n",
        "model = hmm.MultinomialHMM(n_components=len(states), n_iter=100)\n",
        "\n",
        "model.transmat_ = transition_matrix\n",
        "\n",
        "model.fit(X)\n",
        "\n",
        "print(\"Learned Transition Probabilities:\")\n",
        "print(model.transmat_)\n"
      ],
      "metadata": {
        "colab": {
          "base_uri": "https://localhost:8080/",
          "height": 383
        },
        "id": "uWAUHExGV2xR",
        "outputId": "f263757d-67f1-49de-de52-af7c5e19e674"
      },
      "execution_count": 5,
      "outputs": [
        {
          "output_type": "error",
          "ename": "ModuleNotFoundError",
          "evalue": "No module named 'hmmlearn'",
          "traceback": [
            "\u001b[0;31m---------------------------------------------------------------------------\u001b[0m",
            "\u001b[0;31mModuleNotFoundError\u001b[0m                       Traceback (most recent call last)",
            "\u001b[0;32m<ipython-input-5-acab52cf7e95>\u001b[0m in \u001b[0;36m<cell line: 1>\u001b[0;34m()\u001b[0m\n\u001b[0;32m----> 1\u001b[0;31m \u001b[0;32mfrom\u001b[0m \u001b[0mhmmlearn\u001b[0m \u001b[0;32mimport\u001b[0m \u001b[0mhmm\u001b[0m\u001b[0;34m\u001b[0m\u001b[0;34m\u001b[0m\u001b[0m\n\u001b[0m\u001b[1;32m      2\u001b[0m \u001b[0;32mimport\u001b[0m \u001b[0mnumpy\u001b[0m \u001b[0;32mas\u001b[0m \u001b[0mnp\u001b[0m\u001b[0;34m\u001b[0m\u001b[0;34m\u001b[0m\u001b[0m\n\u001b[1;32m      3\u001b[0m \u001b[0;34m\u001b[0m\u001b[0m\n\u001b[1;32m      4\u001b[0m \u001b[0msolar_panel_sales\u001b[0m \u001b[0;34m=\u001b[0m \u001b[0mnp\u001b[0m\u001b[0;34m.\u001b[0m\u001b[0marray\u001b[0m\u001b[0;34m(\u001b[0m\u001b[0;34m[\u001b[0m\u001b[0;36m0\u001b[0m\u001b[0;34m,\u001b[0m \u001b[0;36m0\u001b[0m\u001b[0;34m,\u001b[0m \u001b[0;36m1\u001b[0m\u001b[0;34m,\u001b[0m \u001b[0;36m1\u001b[0m\u001b[0;34m,\u001b[0m \u001b[0;36m0\u001b[0m\u001b[0;34m,\u001b[0m \u001b[0;36m1\u001b[0m\u001b[0;34m,\u001b[0m \u001b[0;36m1\u001b[0m\u001b[0;34m]\u001b[0m\u001b[0;34m)\u001b[0m\u001b[0;34m\u001b[0m\u001b[0;34m\u001b[0m\u001b[0m\n\u001b[1;32m      5\u001b[0m \u001b[0mwind_turbine_sales\u001b[0m \u001b[0;34m=\u001b[0m \u001b[0mnp\u001b[0m\u001b[0;34m.\u001b[0m\u001b[0marray\u001b[0m\u001b[0;34m(\u001b[0m\u001b[0;34m[\u001b[0m\u001b[0;36m1\u001b[0m\u001b[0;34m,\u001b[0m \u001b[0;36m1\u001b[0m\u001b[0;34m,\u001b[0m \u001b[0;36m0\u001b[0m\u001b[0;34m,\u001b[0m \u001b[0;36m0\u001b[0m\u001b[0;34m,\u001b[0m \u001b[0;36m1\u001b[0m\u001b[0;34m,\u001b[0m \u001b[0;36m0\u001b[0m\u001b[0;34m,\u001b[0m \u001b[0;36m0\u001b[0m\u001b[0;34m]\u001b[0m\u001b[0;34m)\u001b[0m\u001b[0;34m\u001b[0m\u001b[0;34m\u001b[0m\u001b[0m\n",
            "\u001b[0;31mModuleNotFoundError\u001b[0m: No module named 'hmmlearn'",
            "",
            "\u001b[0;31m---------------------------------------------------------------------------\u001b[0;32m\nNOTE: If your import is failing due to a missing package, you can\nmanually install dependencies using either !pip or !apt.\n\nTo view examples of installing some common dependencies, click the\n\"Open Examples\" button below.\n\u001b[0;31m---------------------------------------------------------------------------\u001b[0m\n"
          ],
          "errorDetails": {
            "actions": [
              {
                "action": "open_url",
                "actionText": "Open Examples",
                "url": "/notebooks/snippets/importing_libraries.ipynb"
              }
            ]
          }
        }
      ]
    }
  ]
}